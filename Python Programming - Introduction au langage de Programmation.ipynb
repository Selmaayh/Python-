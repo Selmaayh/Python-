{
 "cells": [
  {
   "cell_type": "markdown",
   "metadata": {
    "id": "e7HLD7Hk2LJr"
   },
   "source": [
    "# Introduction au langage Python\n",
    "___\n",
    "\n",
    "\n",
    "[Python](https://www.python.org/) est un langage de programmation interprété, polyvalent, dynamique et de haut niveau. Il a été créé par [Guido van Rossum](https://fr.wikipedia.org/wiki/Guido_van_Rossum), nommé Benevolent Dictator for Life, et a été publié pour la première fois en 1991 :\n",
    "- La première version est sortie en 1991 sous le nom de Python 0.9.0.\n",
    "- La version Python 2.0 est sortie en 2000, puis a été abandonnée avec la version 2.7.18 en 2020.\n",
    "- La version Python 3.0, sortie en 2008, la dernière version stable étant python 3.11  du 24 octobre 2022 et supportée jusqu’en octobre 2027.\n",
    "\n",
    "\n",
    "<img src='https://miro.medium.com/max/1200/1*Pl9OyXXrLH_5JiQB8vNx3w.jpeg'>\n",
    "\n",
    "\n",
    "## **1. Environnements de Développement Intégré**\n",
    "\n",
    "Pour manipuler le langage de programmation, plusieurs environnements de développement intégré (**IDE**) sont disponibles sur le marché. Un IDE est un ensemble de logiciels intégrant un éditeur de code, un interpréteur de notebook ainsi qu'un terminal permettant d'interpréter et d'exécuter le code.\n",
    "\n",
    "Un **notebook** est un document interactif qui permet d'intégrer du code informatique, des textes explicatifs, des graphiques et d'autres éléments multimédias dans un seul environnement. L'extension pour ce type de fichier est  `'.ipynb'`.\n",
    "\n",
    "Parmi les IDE les plus populaires, on retrouve :\n",
    "\n",
    "- [Jupyter Lab](https://jupyterlab.readthedocs.io/en/latest/) : Un environnement interactif largement utilisé dans le domaine de la science des données et de l'apprentissage automatique. Il prend en charge le langage Python et offre une interface utilisateur conviviale pour la création de documents interactifs appelés \"Notebooks\".\n",
    "\n",
    "- [Visual Studio Code](https://code.visualstudio.com/) : Un IDE développé par Microsoft, très apprécié pour sa légèreté, sa polyvalence et son large éventail d'extensions. Il prend en charge de nombreux langages de programmation et offre des fonctionnalités avancées telles que la débogage, la gestion de version, et l'intégration avec des outils externes.\n",
    "\n",
    "- [Google Colaboratory](https://colab.google/) (Colab) : Une plateforme basée sur le cloud qui permet d'écrire et d'exécuter du code Python dans un environnement de notebook. Colab offre un accès gratuit aux ressources informatiques, y compris les GPU, ce qui en fait un choix populaire pour l'apprentissage machine et la recherche. Cet outil permet également le travail collaboratif à l'instar des ressources Google : Docs, Sheets, Slides, etc...\n",
    "\n",
    "Ces IDE offrent des fonctionnalités avancées telles que la coloration syntaxique, l'achèvement automatique, la gestion de projet, et facilitent le processus de développement. Il est important de choisir l'IDE en fonction des besoins spécifiques du projet et des préférences personnelles.\n",
    "\n",
    "**Jupyter Lab** et **Visual Studio Code** sont des ressources pouvant être installés à partir de Anaconda, une distribution open-source de Python et de R, créée par la société [Anaconda Inc](https://www.anaconda.com/).\n",
    "\n",
    "\n",
    "Voici les commandes les plus utiles permettant d'interagir avec un environnement Notebook :\n",
    "\n",
    "- `\"Maj\"` + \"Enter\" => Exécuter une cellule,\n",
    "- `\"a\"` =>créer une cellule en haut,\n",
    "- `\"b\"` => créer  une cellule en bas,\n",
    "- `\"dd\"` => supprimer une cellule,\n",
    "- `\"echap\"` => sortir d'une cellule,\n",
    "- `\"m\"` => Transformer une cellule de code en cellule de texte.\n",
    "\n",
    "\n"
   ]
  },
  {
   "cell_type": "code",
   "execution_count": null,
   "metadata": {
    "id": "trJ20ZYg6-an"
   },
   "outputs": [],
   "source": []
  },
  {
   "cell_type": "markdown",
   "metadata": {
    "id": "c0e2kbWZ5xZW"
   },
   "source": [
    "## **2. Variables et fonctions standards** :\n",
    "\n",
    "\n",
    "#### **2.1 Les Variables ** :\n",
    "\n",
    "Une variable en programmation est un espace de stockage nommé qui contient une valeur ou une référence à une valeur. Les variables permettent de manipuler des données dans un programme. En Python, vous pouvez déclarer une variable en lui attribuant une valeur. Par exemple :\n",
    "\n",
    "- `x = 10`\n",
    "- `y = \"Hello, World!\"`\n",
    "- `z = [1, True, \"Bonjour\", 3.14]`\n",
    "\n",
    "L'instruction `x = 10` s'interprète de la manière suivante : Une variable `x` est placée en mémoire et sa valeur correspond à `10`.\n",
    "\n",
    "Il existe différent type de variable :\n",
    "\n",
    "- **Entiers** (int) : Les variables de type entier représentent des nombres entiers sans partie décimale.\n",
    "      Par exemple : `x = 5`.\n",
    "\n",
    "- **Nombres à virgule flottante** (float) : Les variables de type flottant représentent des nombres avec une partie décimale.\n",
    "      Par exemple : `y = 3.14`.\n",
    "\n",
    "- **Chaînes de caractères** (str) : Les variables de type chaîne stockent du texte. Par exemple : `message = \"Bonjour\"`.\n",
    "\n",
    "- **Listes** (list) : Les variables de type liste stockent une séquence ordonnée d'éléments.\n",
    "      Par exemple : `numbers = [1, 2, 3]`.\n",
    "\n",
    "- **Tuples** (tuple) : Les variables de type tuple sont similaires aux listes, mais elles sont immuables (on ne peut pas les modifier une fois créées).\n",
    "      Par exemple : `coordinates = (4, 5)`.\n",
    "\n",
    "- **Dictionnaires** (dict) : Les variables de type dictionnaire stockent des paires clé-valeur.\n",
    "      Par exemple : `person = {'nom': 'Dupont', 'âge': 25}`.\n",
    "\n",
    "- **Ensembles** (set) : Les variables de type ensemble stockent une collection d'éléments uniques, sans ordre.\n",
    "      Par exemple : `colors = {'rouge', 'vert', 'bleu'}`.\n",
    "\n",
    "- **Booléens** (bool) : Les variables de type booléen représentent les valeurs de vérité, soit True (vrai) ou False (faux).\n",
    "      Par exemple : `is_valid = True`.\n",
    "\n",
    "- **NoneType** (None) : Le type None est utilisé pour représenter l'absence de valeur ou une valeur nulle.\n",
    "      Par exemple : `result = None`.\n",
    "\n",
    "\n",
    "Python est un langage interprété et typé, ce qui signifie que le code source est exécuté ligne par ligne et le type de données sont déterminés à l'exécution. Il n'est donc pas nécessaire de définir le type des données lors de la création d'une variable.\n",
    "\n",
    "\n"
   ]
  },
  {
   "cell_type": "code",
   "execution_count": null,
   "metadata": {
    "id": "7ZZrE0p770fi"
   },
   "outputs": [
    {
     "data": {
      "text/plain": [
       "'kevine'"
      ]
     },
     "execution_count": 6,
     "metadata": {},
     "output_type": "execute_result"
    }
   ],
   "source": [
    "\n",
    "name = \"kevine\"\n",
    "\n",
    "name \n",
    "\n"
   ]
  },
  {
   "cell_type": "code",
   "execution_count": 7,
   "metadata": {},
   "outputs": [
    {
     "data": {
      "text/plain": [
       "[75, 'kevine', 'paris']"
      ]
     },
     "execution_count": 7,
     "metadata": {},
     "output_type": "execute_result"
    }
   ],
   "source": [
    "my_liste = [75, name, 'paris' ]\n",
    "my_liste\n",
    "\n"
   ]
  },
  {
   "cell_type": "code",
   "execution_count": 9,
   "metadata": {},
   "outputs": [
    {
     "data": {
      "text/plain": [
       "'paris'"
      ]
     },
     "execution_count": 9,
     "metadata": {},
     "output_type": "execute_result"
    }
   ],
   "source": [
    "my_liste[2]\n",
    "\n",
    "\n"
   ]
  },
  {
   "cell_type": "code",
   "execution_count": 10,
   "metadata": {},
   "outputs": [],
   "source": [
    "my_tuple = (75, name, 'paris') #ftuple neest jamais modifiable \n",
    "\n",
    "\n"
   ]
  },
  {
   "cell_type": "code",
   "execution_count": null,
   "metadata": {},
   "outputs": [],
   "source": [
    "#Boolen True ou False \n",
    "my_bool = True \n",
    "my_bool = \n",
    "\n"
   ]
  },
  {
   "cell_type": "code",
   "execution_count": 12,
   "metadata": {},
   "outputs": [
    {
     "data": {
      "text/plain": [
       "{'key1': 42, 8: 'bonjour'}"
      ]
     },
     "execution_count": 12,
     "metadata": {},
     "output_type": "execute_result"
    }
   ],
   "source": [
    "#Dictionnaire clé et valeure \n",
    "my_dict = {\n",
    "    \"key1\" : 42, \n",
    "    8 : 'bonjour'\n",
    "}\n",
    "my_dict\n"
   ]
  },
  {
   "cell_type": "code",
   "execution_count": 13,
   "metadata": {},
   "outputs": [
    {
     "data": {
      "text/plain": [
       "42"
      ]
     },
     "execution_count": 13,
     "metadata": {},
     "output_type": "execute_result"
    }
   ],
   "source": [
    "#Dictionnaire clé et valeure \n",
    "my_dict['key1']\n",
    "\n"
   ]
  },
  {
   "cell_type": "code",
   "execution_count": 14,
   "metadata": {},
   "outputs": [
    {
     "data": {
      "text/plain": [
       "{'name': 'selma',\n",
       " 'ville': 'thiais',\n",
       " 'code': 94320,\n",
       " 'language': ['francais', 'arabe', 'anglias']}"
      ]
     },
     "execution_count": 14,
     "metadata": {},
     "output_type": "execute_result"
    }
   ],
   "source": [
    "#exo\n",
    "my_dictt = {\n",
    "    \"name\" : \"selma\",\n",
    "    \"ville\": \"thiais\",\n",
    "    \"code\": 94320 ,\n",
    "    \"language\": [\"francais\", \"arabe\", \"anglias\"], \n",
    "}\n",
    "my_dictt\n"
   ]
  },
  {
   "cell_type": "markdown",
   "metadata": {
    "id": "vTAtvLMC-d5o"
   },
   "source": [
    "\n",
    "#### **2.2 Les Fonctions standards**\n",
    "\n",
    "En programmation, une fonction est un bloc de code réutilisable qui effectue une tâche spécifique. Les fonctions permettent de structurer un programme, d'encapsuler des opérations, et de rendre le code plus lisible et modulaire. Une fonction peut prendre des arguments en entrée, effectuer des opérations, et renvoyer un résultat en sortie.\n",
    "\n",
    "Voici la méthode d'utilisation d'une fonction :\n",
    "- `fonction(argument)`   où `argument` est la variable utilisée par la fonction.\n",
    "\n",
    "\n",
    "**Voici les fonctions standards de python** :\n",
    "- `type`  : Renvoi le type de la variable passée en paramètre,\n",
    "- `print` : Affiche la variable passée en argument,\n",
    "- `int`   : Transforme un nombre réel en entier naturel,\n",
    "- `float` : Transforme un nombre quelconque en nombre réel,\n",
    "- `str`   : Transforme la variable passée en entrée en chaine de caractère,\n",
    "- `bool`  : Renvoi True ou False en fonction de la variable passée en paramètre,\n",
    "- `list`  : Renvoi une list en fonction de l'itérable passée en entrée,\n",
    "- `len`   : Renvoi la taille de la liste entrée en paramètre,\n",
    "- `dir`   : Renvoi la liste des méthodes de l'objet entré en paramètre.\n",
    "- `input` : Crée une zone de saisie de text.\n",
    "- `range` : Renvoi une liste de nombre entier de 0 à `n`, où `n` est la variable passée en paramètre.\n",
    "\n",
    "Ces fonctions sont largement utilisées dans le développement Python et constituent une base solide pour la manipulation de données, l'interaction avec l'utilisateur et bien d'autres tâches courantes."
   ]
  },
  {
   "cell_type": "code",
   "execution_count": 3,
   "metadata": {
    "id": "ewHxWLkYIQBB"
   },
   "outputs": [
    {
     "data": {
      "text/plain": [
       "-4"
      ]
     },
     "execution_count": 3,
     "metadata": {},
     "output_type": "execute_result"
    }
   ],
   "source": [
    "#soustraction/addition \n",
    "2-6\n"
   ]
  },
  {
   "cell_type": "code",
   "execution_count": 2,
   "metadata": {
    "id": "APGH8l8y_Xks"
   },
   "outputs": [
    {
     "data": {
      "text/plain": [
       "1.0"
      ]
     },
     "execution_count": 2,
     "metadata": {},
     "output_type": "execute_result"
    }
   ],
   "source": [
    "# division \n",
    "2/2\n"
   ]
  },
  {
   "cell_type": "code",
   "execution_count": 4,
   "metadata": {
    "id": "UVuSBPDJ_Xhl"
   },
   "outputs": [
    {
     "data": {
      "text/plain": [
       "'Bonjour'"
      ]
     },
     "execution_count": 4,
     "metadata": {},
     "output_type": "execute_result"
    }
   ],
   "source": [
    "# chaine de caratere \n",
    "\"Bonjour\"\n"
   ]
  },
  {
   "cell_type": "code",
   "execution_count": 16,
   "metadata": {},
   "outputs": [
    {
     "data": {
      "text/plain": [
       "tuple"
      ]
     },
     "execution_count": 16,
     "metadata": {},
     "output_type": "execute_result"
    }
   ],
   "source": [
    "type(my_tuple)\n"
   ]
  },
  {
   "cell_type": "code",
   "execution_count": null,
   "metadata": {},
   "outputs": [
    {
     "data": {
      "text/plain": [
       "tuple"
      ]
     },
     "metadata": {},
     "output_type": "display_data"
    }
   ],
   "source": [
    "\n"
   ]
  },
  {
   "cell_type": "markdown",
   "metadata": {
    "id": "bLwLyvQb_X_a"
   },
   "source": [
    "Il existe une convention de nommage recommandée pour déclarer des variables. Ces conventions sont définies dans le [PEP 8](https://peps.python.org/pep-0008/), qui est le guide de style officiel de Python. Voici quelques points clés de la convention de nommage des variables en Python :\n",
    "\n",
    "**Minuscules et Mots Séparés par des Underscores (snake_case)** : Les noms de variables doivent être en minuscules, et les mots doivent être séparés par des underscores (_). Par exemple : ma_variable, nom_utilisateur.\n",
    "\n",
    "**Clarté et Expressivité** : Les noms de variables doivent être descriptifs et expressifs afin de faciliter la compréhension du code. Évitez les noms trop courts ou trop généraux.\n",
    "\n",
    "**Éviter les Mots Réservés** : Évitez d'utiliser des mots réservés de Python comme noms de variables. Par exemple, n'utilisez pas des noms tels que class, int, ou str pour vos variables.\n",
    "\n",
    "**Utiliser des Noms Significatifs** : Choisissez des noms de variables qui reflètent le but ou le contenu de la variable. Par exemple, utilisez somme_total plutôt que st pour une variable représentant la somme totale.\n",
    "\n",
    "**Éviter les Abréviations Confuses** : Évitez d'utiliser des abréviations qui pourraient prêter à confusion. Par exemple, préférez utilisateurs à usr.\n",
    "\n",
    "**Suivre la Convention CamelCase pour les Classes** : Si vous utilisez des classes, le nom de la classe doit suivre la convention CamelCase (chaque mot commence par une majuscule, sans espaces ni underscores). Par exemple : MaClasse, UtilisateurEnregistre.\n",
    "\n",
    "Voici quelques exemples conformes à la convention de nommage :\n",
    "\n",
    "- `nom_utilisateur = \"john_doe\"`\n",
    "- `somme_totale = 1000.50`\n",
    "- `liste_de_courses = ['pain', 'lait', 'œufs']`"
   ]
  },
  {
   "cell_type": "code",
   "execution_count": null,
   "metadata": {},
   "outputs": [
    {
     "data": {
      "text/plain": [
       "'Bonjour'"
      ]
     },
     "metadata": {},
     "output_type": "display_data"
    }
   ],
   "source": [
    "# chaine de caratere \n",
    "\"Bonjour\"\n"
   ]
  },
  {
   "cell_type": "code",
   "execution_count": null,
   "metadata": {
    "id": "UwI3I8TJAwPb"
   },
   "outputs": [],
   "source": []
  },
  {
   "cell_type": "code",
   "execution_count": null,
   "metadata": {
    "id": "f2eViztPAvnV"
   },
   "outputs": [],
   "source": []
  },
  {
   "cell_type": "markdown",
   "metadata": {
    "id": "8GsNCERX7zP8"
   },
   "source": [
    "## **3. Opérateurs logiques Conditions et Boucles** :\n",
    "\n",
    "Un opérateur logique est un symbole ou un mot-clé utilisé pour effectuer des opérations logiques sur des valeurs booléennes. Les opérateurs logiques permettent de combiner ou de manipuler des expressions logiques, généralement représentées par des valeurs booléennes (True ou False).\n",
    "\n",
    "#### **3.1 Les oppérateurs**\n",
    "\n",
    "\n",
    "Les principaux opérateurs logiques en programmation sont généralement les suivants :\n",
    "- `==` : Renvoi True si les deux éléments comparés sont égaux\n",
    "\n",
    "      exemple : `3+3 == 6`\n",
    "\n",
    "- `!=` : Renvoi True si les deux éléments comparés sont différent\n",
    "\n",
    "      exemple : 3 == 6\n",
    "\n",
    "\n",
    "- `<` (ou `<=`) : Renvoi `True` si l'élément de gauche est plus petit (ou égale) à celui de droite\n",
    "\n",
    "      exemple : `3 < 6`\n",
    "\n",
    "\n",
    "- `>` (ou `>=`) : Renvoi `False` si l'élément de gauche est plus grand (ou égale) à celui de droite\n",
    "\n",
    "      exemple : `3 > 6`"
   ]
  },
  {
   "cell_type": "code",
   "execution_count": null,
   "metadata": {
    "id": "CCi1MLBVIP-b"
   },
   "outputs": [],
   "source": []
  },
  {
   "cell_type": "code",
   "execution_count": null,
   "metadata": {
    "id": "aqp1gYfdC8Bj"
   },
   "outputs": [],
   "source": []
  },
  {
   "cell_type": "markdown",
   "metadata": {
    "id": "9314GYe-C3Oc"
   },
   "source": [
    "#### **3.2 Les oppérateurs logiques**\n",
    "\n",
    "* **ET (AND)** : L'opérateur logique ET (and) renvoie True si toutes les expressions logiques qu'il combine sont True. Sinon, il renvoie False.\n",
    "\n",
    "      exemple :`resultat = (True and False)  # Résultat : False`\n",
    "\n",
    "* **OU (OR)** : L'opérateur logique OU (or) renvoie True si au moins l'une des expressions logiques qu'il combine est True. Il renvoie False si toutes les expressions sont False.\n",
    "\n",
    "      exemple :`resultat = (True or False)  # Résultat : True`\n",
    "\n",
    "* **NON (NOT)** : L'opérateur logique NON (not) renvoie l'inverse de la valeur logique d'une expression. Si l'expression est True, NOT renverra False, et vice versa.\n",
    "\n",
    "      exemple :`resultat = not True  # Résultat : False`\n",
    "\n",
    "* **IN** : L'opérateur in est souvent utilisé pour vérifier si une valeur est présente dans une séquence. Il renvoie True si c'est le cas.\n",
    "\n",
    "      exemple : `resultat = 3 in [1, 2, 3, 4, 5]  # Résultat : True`"
   ]
  },
  {
   "cell_type": "code",
   "execution_count": null,
   "metadata": {
    "id": "uQDbCC8KIPvt"
   },
   "outputs": [],
   "source": []
  },
  {
   "cell_type": "code",
   "execution_count": null,
   "metadata": {
    "id": "JpTbgn27IPtW"
   },
   "outputs": [],
   "source": []
  },
  {
   "cell_type": "markdown",
   "metadata": {
    "id": "MvQrC4FDC9AE"
   },
   "source": [
    "#### **3.3 Les conditions**\n",
    "\n",
    "Les conditions sont des expressions logiques qui permettent de prendre des décisions dans un programme en fonction de certaines circonstances. Les structures conditionnelles sont essentielles pour contrôler le flux d'exécution du programme. En programmation, les conditions sont généralement exprimées à l'aide de constructions telles que `if`, `else`, et éventuellement `elif` (else if).\n",
    "\n",
    "\n",
    "* **Syntaxe de base avec if** :\n",
    "      if condition:\n",
    "          pass # Bloc de code à exécuter si la condition est vraie\n",
    "\n",
    "* **Conditions Composées avec else** :\n",
    "      if condition:\n",
    "          pass # Bloc de code à exécuter si la condition est vraie\n",
    "      else:\n",
    "          pass # Bloc de code à exécuter si la condition est fausse\n",
    "\n",
    "\n",
    "* **Conditions Multiples avec elif** :\n",
    "      if condition1:\n",
    "          pass# Bloc de code à exécuter si condition1 est vraie\n",
    "      elif condition2:\n",
    "          pass# Bloc de code à exécuter si condition2 est vraie\n",
    "      else:\n",
    "          pass# Bloc de code à exécuter si toutes les conditions précédentes sont fausses\n",
    "* **Conditions Logiques avec and, or, not** :\n",
    "      if condition1 and condition2:\n",
    "          pass # Bloc de code à exécuter si les deux conditions sont vraies\n",
    "      if condition1 or condition2:\n",
    "            pass # Bloc de code à exécuter si au moins l'une des conditions est vraie\n",
    "      if not condition:\n",
    "            pass # Bloc de code à exécuter si la condition est fausse\n",
    "\n",
    "Tout ce qui est compris dans l'indentation sera exécuté si la condition est respectée.\n",
    "\n",
    "L'**indentation** en Python est un élément essentiel de la syntaxe du langage. Contrairement à certains langages qui utilisent des accolades {} pour délimiter les blocs de code, Python utilise l'indentation pour définir la structure du code. L'indentation consiste en des espaces ou des tabulations placées au début des lignes pour indiquer l'appartenance à un bloc de code particulier.\n",
    "\n",
    "\n",
    "\n",
    "\n",
    "A noter, l'instruction `pass` est utilisée comme un espace réservé pour une instruction qui ne fait rien. Elle est souvent utilisée lorsqu'une syntaxe correcte est requise mais qu'aucune action n'est nécessaire ou souhaitée. En d'autres termes, pass est une instruction qui ne fait rien et n'affecte pas le déroulement du programme.\n",
    "\n",
    "De plus, il est possible d'ajouter des commentaires à son code avec le symbole`#`."
   ]
  },
  {
   "cell_type": "code",
   "execution_count": 21,
   "metadata": {
    "id": "QS33M43eIPq5"
   },
   "outputs": [],
   "source": [
    "if len('kevine') == 5 :\n",
    "    print(\"bonjouor toout le monde\")\n"
   ]
  },
  {
   "cell_type": "code",
   "execution_count": null,
   "metadata": {
    "id": "mYS2qGJsF9JN"
   },
   "outputs": [],
   "source": [
    "# create password\n",
    "# 1. taille >=8 \n",
    "# 2. lettre a \n",
    "# 3. chiffre 3 \n",
    "# SI OK, alors print \"mot de passe validé\""
   ]
  },
  {
   "cell_type": "code",
   "execution_count": null,
   "metadata": {
    "id": "dB6-C_-eF9GP"
   },
   "outputs": [],
   "source": [
    "def verifier_mot_de_passe(mot_de_passe):\n",
    "   \n",
    "    if len(mot_de_passe) < 8:\n",
    "        print(\"Erreur : Le mot de passe doit avoir au moins 8 caractères.\")\n",
    "        return False\n",
    "    \n",
    "#obligation de la  presesnce du a \n",
    "    if 'a' not in mot_de_passe:\n",
    "        print(\"Erreur : Le mot de passe doit contenir la lettre 'a'.\")\n",
    "        return False\n",
    "    \n",
    "\n",
    "#presense du 3 \n",
    "    if '3' not in mot_de_passe:\n",
    "        print(\"Erreur : Le mot de passe doit contenir le chiffre '3'.\")\n",
    "        return False\n",
    "\n",
    "#affichage \n",
    "    print(\"Mot de passe valide !\")\n",
    "    return True\n",
    "\n",
    "\n",
    "\n",
    "\n"
   ]
  },
  {
   "cell_type": "markdown",
   "metadata": {
    "id": "hFd8qWxJF9jS"
   },
   "source": [
    "#### **3.4 Les boucles `while` et `for`**\n",
    "\n",
    "Les boucles permettent d'exécuter un bloc de code de manière répétée tant qu'une condition spécifiée est vraie (boucle while) ou pour chaque élément d'une séquence (boucle for). Les boucles sont essentielles pour automatiser des tâches répétitives.\n",
    "\n",
    "* **Boucle `while`** :La boucle while exécute un bloc de code tant qu'une condition spécifiée est vraie. La syntaxe de base est la suivante :\n",
    "\n",
    "      while condition:\n",
    "          pass #Bloc de code à exécuter tant que la condition est vraie\n",
    "\n",
    "  Exemple :\n",
    "      compteur = 0\n",
    "\n",
    "      while compteur < 5:\n",
    "          print(compteur)\n",
    "          compteur += 1\n",
    "\n",
    "* **Boucle `for`** : La boucle `for` itère sur les éléments d'une séquence (comme une liste, une chaîne de caractères, ou un tuple) et exécute un bloc de code pour chaque élément. La syntaxe de base est la suivante :\n",
    "      for variable in sequence:\n",
    "        pass #Bloc de code à exécuter pour chaque élément de la séquence\n",
    "  Exemple :\n",
    "      for i in range(5):\n",
    "        print(i)\n",
    "\n",
    "-> Instruction `break` : Permet de sortir prématurément d'une boucle.\n",
    "-> Instruction `continue` : Permet de passer à l'itération suivante de la boucle sans exécuter le reste du code."
   ]
  },
  {
   "cell_type": "code",
   "execution_count": 22,
   "metadata": {
    "id": "LADW1N_0Ho2s"
   },
   "outputs": [
    {
     "name": "stdout",
     "output_type": "stream",
     "text": [
      "bd\n"
     ]
    }
   ],
   "source": [
    "#boucle for \n",
    "for u in \"abcdefgh\":\n",
    "    if u == 'd':\n",
    "        print('b'+u)\n",
    "        "
   ]
  },
  {
   "cell_type": "code",
   "execution_count": 23,
   "metadata": {
    "id": "eamOBinvHufn"
   },
   "outputs": [
    {
     "name": "stdout",
     "output_type": "stream",
     "text": [
      "kevin\n",
      "1\n",
      "kevin\n",
      "2\n",
      "kevin\n",
      "3\n",
      "kevin\n",
      "4\n",
      "kevin\n",
      "5\n",
      "kevin\n",
      "6\n",
      "kevin\n",
      "7\n",
      "kevin\n",
      "8\n",
      "kevin\n",
      "9\n",
      "kevin\n",
      "10\n",
      "kevin\n",
      "11\n",
      "kevin\n",
      "12\n",
      "kevin\n",
      "13\n",
      "kevin\n",
      "14\n",
      "kevin\n",
      "15\n",
      "kevin\n",
      "16\n",
      "kevin\n",
      "17\n",
      "kevin\n",
      "18\n",
      "kevin\n",
      "19\n",
      "kevin\n",
      "20\n"
     ]
    }
   ],
   "source": [
    "#boucle while \n",
    "n=0\n",
    "while n<20:\n",
    "    print('kevin')\n",
    "    n+=1 \n",
    "    print(n)"
   ]
  },
  {
   "cell_type": "code",
   "execution_count": null,
   "metadata": {
    "id": "x5tMAyoZHuFk"
   },
   "outputs": [],
   "source": []
  },
  {
   "cell_type": "markdown",
   "metadata": {
    "id": "Uz3MO-yCHvEb"
   },
   "source": [
    "___\n",
    "## **Exercice : Gestion du Mot de Passe**\n",
    "\n",
    "Objectif : Créer un programme en Python qui demande à l'utilisateur de saisir un mot de passe spécifique. L'utilisateur a un maximum de 3 tentatives pour saisir le mot de passe correctement.\n",
    "\n",
    "Instructions :\n",
    "\n",
    "1. Définissez une variable mot_de_passe_attendu avec la valeur \"ENS_PARIS_SACLAY\".\n",
    "2. Définissez une variable tentatives_max avec la valeur 3.\n",
    "3. Utilisez une boucle for pour permettre à l'utilisateur de saisir le mot de passe jusqu'à 3 tentatives.\n",
    "4. À chaque tentative, demandez à l'utilisateur de saisir le mot de passe à l'aide de la fonction input().\n",
    "5. Comparez la saisie de l'utilisateur avec le mot de passe attendu.\n",
    "  - Si la saisie est correcte, affichez \"Mot de passe correct. Accès autorisé.\" et sortez de la boucle.\n",
    "  - Si la saisie est incorrecte, affichez \"Mot de passe incorrect. Il vous reste [nombre] tentative(s).\" où [nombre] représente le nombre de tentatives restantes.\n",
    "  - Si le nombre maximal de tentatives est atteint, affichez \"Nombre maximal de tentatives atteint. Accès refusé.\"\n",
    "\n",
    "Conseils :\n",
    "\n",
    "- Utilisez une variable pour compter le nombre de tentatives.\n",
    "- Utilisez l'instruction break pour sortir de la boucle lorsque le mot de passe est correct.\n",
    "- Assurez-vous d'afficher des messages informatifs à l'utilisateur pour l'aider à comprendre le processus."
   ]
  },
  {
   "cell_type": "code",
   "execution_count": 27,
   "metadata": {},
   "outputs": [
    {
     "name": "stdout",
     "output_type": "stream",
     "text": [
      "mot de passe correct\n"
     ]
    }
   ],
   "source": [
    "mot_de_passe_attendu = \"ENS_PARIS_SACLAY\"\n",
    "tentaive_max = 3 \n",
    "mot_de_passe = input(\"tapez votre mot de passe\")\n",
    "while tentaive_max >0 :\n",
    "    if mot_de_passe!= mot_de_passe_attendu and tentaive_max > 0:\n",
    "        print(\"mot de passe incorecte: \", tentaive_max-1)\n",
    "    else :\n",
    "        print(\"mot de passe correct\")\n",
    "        break \n",
    "    \n",
    "        tentaive_max-=1"
   ]
  },
  {
   "cell_type": "code",
   "execution_count": null,
   "metadata": {
    "id": "5X65JaCJKemU"
   },
   "outputs": [],
   "source": []
  },
  {
   "cell_type": "code",
   "execution_count": null,
   "metadata": {
    "id": "bEHsq6ycKeca"
   },
   "outputs": [],
   "source": []
  },
  {
   "cell_type": "code",
   "execution_count": null,
   "metadata": {
    "id": "zLfDrP7rKeZT"
   },
   "outputs": [],
   "source": []
  }
 ],
 "metadata": {
  "colab": {
   "authorship_tag": "ABX9TyN66eqXfZRnz2Pz0Zo1pw3g",
   "provenance": []
  },
  "kernelspec": {
   "display_name": "Python 3",
   "name": "python3"
  },
  "language_info": {
   "codemirror_mode": {
    "name": "ipython",
    "version": 3
   },
   "file_extension": ".py",
   "mimetype": "text/x-python",
   "name": "python",
   "nbconvert_exporter": "python",
   "pygments_lexer": "ipython3",
   "version": "3.13.3"
  }
 },
 "nbformat": 4,
 "nbformat_minor": 0
}
